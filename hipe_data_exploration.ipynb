{
 "cells": [
  {
   "cell_type": "code",
   "execution_count": 2,
   "id": "17c5d94f-0385-4cf4-8fb6-6d1f747e2919",
   "metadata": {},
   "outputs": [],
   "source": [
    "import pandas as pd\n",
    "import plotly.express as px\n",
    "from tqdm.auto import tqdm"
   ]
  },
  {
   "cell_type": "code",
   "execution_count": 3,
   "id": "461bdbee-04ca-419f-9490-63f52e1f68b6",
   "metadata": {},
   "outputs": [],
   "source": [
    "df = pd.read_csv('data/sample30sec.csv')"
   ]
  },
  {
   "cell_type": "code",
   "execution_count": 5,
   "id": "e3c087f8-0f86-4bdc-90f9-625a89113312",
   "metadata": {},
   "outputs": [
    {
     "name": "stdout",
     "output_type": "stream",
     "text": [
      "<class 'pandas.core.frame.DataFrame'>\n",
      "RangeIndex: 265080 entries, 0 to 265079\n",
      "Data columns (total 12 columns):\n",
      " #   Column               Non-Null Count   Dtype  \n",
      "---  ------               --------------   -----  \n",
      " 0   SensorDateTime       265080 non-null  object \n",
      " 1   ChipPress            265026 non-null  float64\n",
      " 2   ChipSaw              265025 non-null  float64\n",
      " 3   HighTemperatureOven  265019 non-null  float64\n",
      " 4   MainTerminal         265047 non-null  float64\n",
      " 5   PickAndPlaceUnit     265048 non-null  float64\n",
      " 6   ScreenPrinter        265026 non-null  float64\n",
      " 7   SolderingOven        265048 non-null  float64\n",
      " 8   VacuumOven           262476 non-null  float64\n",
      " 9   VacuumPump1          265047 non-null  float64\n",
      " 10  VacuumPump2          265050 non-null  float64\n",
      " 11  WashingMachine       265049 non-null  float64\n",
      "dtypes: float64(11), object(1)\n",
      "memory usage: 43.0 MB\n"
     ]
    }
   ],
   "source": [
    "df.info(memory_usage='deep')"
   ]
  }
 ],
 "metadata": {
  "kernelspec": {
   "display_name": "Python 3 (ipykernel)",
   "language": "python",
   "name": "python3"
  },
  "language_info": {
   "codemirror_mode": {
    "name": "ipython",
    "version": 3
   },
   "file_extension": ".py",
   "mimetype": "text/x-python",
   "name": "python",
   "nbconvert_exporter": "python",
   "pygments_lexer": "ipython3",
   "version": "3.8.12"
  }
 },
 "nbformat": 4,
 "nbformat_minor": 5
}
